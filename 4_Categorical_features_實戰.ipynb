{
 "cells": [
  {
   "cell_type": "markdown",
   "source": [
    "# 資料前處理(Label encoding、 One hot encoding)\r\n",
    "這兩個編碼方式的目的是為了將類別 (categorical)或是文字(text)的資料轉換成數字，而讓程式能夠更好的去理解及運算。\r\n",
    "> Label encoding : 把每個類別 mapping 到某個整數，不會增加新欄位\r\n",
    "\r\n",
    "> One hot encoding : 為每個類別新增一個欄位，用 0/1 表示是否\r\n",
    "\r\n",
    "![](images/Encoder.PNG)\r\n",
    "\r\n",
    "\r\n",
    "## Encoding Categorical features (or label)\r\n",
    "![](images/Encoding.PNG)\r\n"
   ],
   "metadata": {}
  },
  {
   "cell_type": "code",
   "execution_count": 2,
   "source": [
    "# one hot encoding 增加資料維度，使資料分離 \r\n",
    "\r\n",
    "import pandas as pd\r\n",
    "import numpy as np\r\n",
    "\r\n",
    "\r\n"
   ],
   "outputs": [],
   "metadata": {}
  },
  {
   "cell_type": "code",
   "execution_count": null,
   "source": [
    "df = pd.DataFrame({'blood':['A','B','AB','O','B'], \r\n",
    "                   'Y':['high','low','high','mid','mid'],\r\n",
    "                   'Z':[np.nan,np.nan,-1196,72,83]})\r\n",
    "df"
   ],
   "outputs": [],
   "metadata": {}
  },
  {
   "cell_type": "markdown",
   "source": [
    "# 方法一：sklearn - label encoder + onehot encoder\n",
    ">onehot encoder要用2D array，若維度所以要用reshape(-1,1)<br>\n",
    ">onehot encoder要數字，若資料文文字要先用label encoder轉數字"
   ],
   "metadata": {}
  },
  {
   "cell_type": "code",
   "execution_count": null,
   "source": [
    "from sklearn.preprocessing import LabelEncoder\r\n",
    "\r\n",
    "encoder=LabelEncoder()\r\n",
    "encoded_Y=encoder.fit_transform(df[\"blood\"])\r\n",
    "print(encoded_Y)\r\n",
    "df[\"blood\"]=encoded_Y\r\n",
    "df"
   ],
   "outputs": [],
   "metadata": {}
  },
  {
   "cell_type": "code",
   "execution_count": null,
   "source": [
    "from sklearn.preprocessing import OneHotEncoder\r\n",
    "onehot=OneHotEncoder()\r\n",
    "d=np.array(df[\"blood\"])\r\n",
    "d.shape\r\n",
    "onehot_df=onehot.fit_transform(d.reshape(-1,1)).toarray()\r\n",
    "onehot_df"
   ],
   "outputs": [],
   "metadata": {}
  },
  {
   "cell_type": "markdown",
   "source": [
    "## One hot encoding\n",
    "One Hot encoding的編碼邏輯為將類別拆成多個行(column)，每個列中的數值由1、0替代，當某一列的資料存在的該行的類別則顯示1，反則顯示0。\n",
    "\n",
    "然在指定column進行編碼的情形下，One hot encoding<b>無法直接對字串進行編碼，必須先透過Label encoding將字串以數字取代後再進行One hot encoding處理。</b>\n",
    "\n",
    "> categorical_features = [0]: 表示欲在data上執行One hot encoding的index為0\n",
    "\n",
    "> data_le: 為經過Label encoding編碼的資料(註:OneHotEncoder的輸入要為2-D array，而Label encoding為1-D array)\n"
   ],
   "metadata": {}
  },
  {
   "cell_type": "markdown",
   "source": [
    "OneHotEncoder會轉出scipy.csr_matrix資料結構用.toarray()轉array\r\n",
    "從結果可以知道，數字0的column 代表的是A、數字1的column 代表的是B，而數字2的column 代表的是AB。\r\n",
    "除了轉換字串外，One hot encoding也可以轉換數字。在此處的data就不需要先經過Label encoding編碼\r\n",
    "\r\n",
    "```python\r\n",
    "# importing one hot encoder from sklearn \r\n",
    "# There are changes in OneHotEncoder class \r\n",
    "from sklearn.preprocessing import OneHotEncoder \r\n",
    "from sklearn.compose import ColumnTransformer \r\n",
    "   \r\n",
    "# creating one hot encoder object with categorical feature 0 \r\n",
    "# indicating the first column \r\n",
    "columnTransformer = ColumnTransformer([('encoder', \r\n",
    "                                        OneHotEncoder(), \r\n",
    "                                        [0])], \r\n",
    "                                      remainder='passthrough') \r\n",
    "  \r\n",
    "data = np.array(columnTransformer.fit_transform(data), dtype = str) \r\n",
    "```"
   ],
   "metadata": {}
  },
  {
   "cell_type": "code",
   "execution_count": null,
   "source": [
    "# importing one hot encoder from sklearn \r\n",
    "# There are changes in OneHotEncoder class \r\n",
    "from sklearn.preprocessing import OneHotEncoder \r\n",
    "from sklearn.compose import ColumnTransformer \r\n",
    "\r\n",
    "# creating one hot encoder object with categorical feature 0 \r\n",
    "# indicating the first column \r\n",
    "columnTransformer = ColumnTransformer([('encoder', \r\n",
    "                                        OneHotEncoder(), \r\n",
    "                                        [0])], \r\n",
    "                                      remainder='passthrough') \r\n",
    "data = np.array(columnTransformer.fit_transform(df), dtype = str) \r\n",
    "data\r\n",
    "\r\n",
    "data_le=pd.DataFrame(data)\r\n",
    "data_le"
   ],
   "outputs": [],
   "metadata": {}
  },
  {
   "cell_type": "markdown",
   "source": [
    "# 方法二：Keras - label encoder + to_categorical\n",
    ">to_categorical要數字，若資料文文字要先用label encoder轉數字"
   ],
   "metadata": {}
  },
  {
   "cell_type": "code",
   "execution_count": 6,
   "source": [
    "from sklearn.preprocessing import LabelEncoder\r\n",
    "from keras.utils import np_utils #不能用\r\n",
    "\r\n",
    "df = pd.DataFrame({'blood':['A','B','AB','O','B'], \r\n",
    "                   'Y':['high','low','high','mid','mid'],\r\n",
    "                   'Z':[np.nan,np.nan,-1196,72,83]})\r\n",
    "\r\n",
    "# label encoder \r\n",
    "encoder=LabelEncoder()\r\n",
    "encoded_Y=encoder.fit_transform(df[\"blood\"])\r\n",
    "print(encoded_Y)\r\n",
    "df[\"blood\"]=encoded_Y\r\n",
    "df\r\n",
    "\r\n",
    "# convert integers to one hot encoding\r\n",
    "keras_onehot=np_utils.to_categorical(encoded_Y)\r\n",
    "keras_onehot\r\n"
   ],
   "outputs": [
    {
     "output_type": "stream",
     "name": "stdout",
     "text": [
      "[0 2 1 3 2]\n"
     ]
    },
    {
     "output_type": "execute_result",
     "data": {
      "text/plain": [
       "array([[1., 0., 0., 0.],\n",
       "       [0., 0., 1., 0.],\n",
       "       [0., 1., 0., 0.],\n",
       "       [0., 0., 0., 1.],\n",
       "       [0., 0., 1., 0.]], dtype=float32)"
      ]
     },
     "metadata": {},
     "execution_count": 6
    }
   ],
   "metadata": {}
  },
  {
   "cell_type": "markdown",
   "source": [
    "## 方法三：pd.get_dummies方法\n",
    "![](images/Encoding_pd.PNG)\n",
    "pd.get_dummies(df)\n",
    ">get_dummies可以直接轉字串，反而無法轉換數字<br>\n",
    ">get_dummies沒指定columns，會全部轉換"
   ],
   "metadata": {}
  },
  {
   "cell_type": "code",
   "execution_count": null,
   "source": [
    "df = pd.DataFrame({'blood':['A','B','AB','O','B'], \r\n",
    "                   'Y':['high','low','high','mid','mid'],\r\n",
    "                   'Z':[np.nan,np.nan,-1196,72,83]})\r\n",
    "df1=pd.get_dummies(df)\r\n",
    "print(df1)\r\n",
    "df2=pd.get_dummies(df.blood)\r\n",
    "print(df2)"
   ],
   "outputs": [],
   "metadata": {}
  },
  {
   "cell_type": "markdown",
   "source": [
    "## 練習一：sklearn - label encoder + onehot encoder\n",
    "下面的資料可以看到country那欄皆為字串， 大部分的模型都是基於數學運算，字串無法套入數學模型進行運算，<br>\n",
    "在此先對其進行Label encoding編碼，我們從 sklearn library中導入 LabelEncoder class，對第一行資料進行fit及transform並取代之。"
   ],
   "metadata": {}
  },
  {
   "cell_type": "code",
   "execution_count": 10,
   "source": [
    "import numpy as np\r\n",
    "import pandas as pd\r\n",
    "country=['Taiwan','Australia','Ireland','Australia','Ireland','Taiwan']\r\n",
    "age=[25,30,45,35,22,36]\r\n",
    "salary=[20000,32000,59000,60000,43000,52000]\r\n",
    "dic={'Country':country,'Age':age,'Salary':salary}\r\n",
    "data=pd.DataFrame(dic)\r\n",
    "data\r\n",
    "\r\n",
    "from sklearn.preprocessing import LabelEncoder\r\n",
    "\r\n",
    "encoder=LabelEncoder()\r\n",
    "encoded_A=encoder.fit_transform(data[\"Country\"])\r\n",
    "print(encoded_A)\r\n",
    "data[\"Country\"]=encoded_A\r\n",
    "data\r\n",
    "\r\n",
    "from sklearn.preprocessing import OneHotEncoder\r\n",
    "onehot=OneHotEncoder()\r\n",
    "d=np.array(data[\"Country\"])\r\n",
    "d.shape\r\n",
    "onehot_data=onehot.fit_transform(d.reshape(-1,1)).toarray()\r\n",
    "onehot_data\r\n",
    "\r\n",
    "from sklearn.compose import ColumnTransformer \r\n",
    "\r\n",
    "columnTransformer = ColumnTransformer([('encoder', \r\n",
    "                                        OneHotEncoder(), \r\n",
    "                                        [0])], \r\n",
    "                                      remainder='passthrough') \r\n",
    "data = np.array(columnTransformer.fit_transform(data), dtype = str) \r\n",
    "data\r\n",
    "\r\n",
    "data_le=pd.DataFrame(data)\r\n",
    "data_le"
   ],
   "outputs": [
    {
     "output_type": "stream",
     "name": "stdout",
     "text": [
      "[2 0 1 0 1 2]\n"
     ]
    },
    {
     "output_type": "execute_result",
     "data": {
      "text/html": [
       "<div>\n",
       "<style scoped>\n",
       "    .dataframe tbody tr th:only-of-type {\n",
       "        vertical-align: middle;\n",
       "    }\n",
       "\n",
       "    .dataframe tbody tr th {\n",
       "        vertical-align: top;\n",
       "    }\n",
       "\n",
       "    .dataframe thead th {\n",
       "        text-align: right;\n",
       "    }\n",
       "</style>\n",
       "<table border=\"1\" class=\"dataframe\">\n",
       "  <thead>\n",
       "    <tr style=\"text-align: right;\">\n",
       "      <th></th>\n",
       "      <th>0</th>\n",
       "      <th>1</th>\n",
       "      <th>2</th>\n",
       "      <th>3</th>\n",
       "      <th>4</th>\n",
       "    </tr>\n",
       "  </thead>\n",
       "  <tbody>\n",
       "    <tr>\n",
       "      <th>0</th>\n",
       "      <td>0.0</td>\n",
       "      <td>0.0</td>\n",
       "      <td>1.0</td>\n",
       "      <td>25.0</td>\n",
       "      <td>20000.0</td>\n",
       "    </tr>\n",
       "    <tr>\n",
       "      <th>1</th>\n",
       "      <td>1.0</td>\n",
       "      <td>0.0</td>\n",
       "      <td>0.0</td>\n",
       "      <td>30.0</td>\n",
       "      <td>32000.0</td>\n",
       "    </tr>\n",
       "    <tr>\n",
       "      <th>2</th>\n",
       "      <td>0.0</td>\n",
       "      <td>1.0</td>\n",
       "      <td>0.0</td>\n",
       "      <td>45.0</td>\n",
       "      <td>59000.0</td>\n",
       "    </tr>\n",
       "    <tr>\n",
       "      <th>3</th>\n",
       "      <td>1.0</td>\n",
       "      <td>0.0</td>\n",
       "      <td>0.0</td>\n",
       "      <td>35.0</td>\n",
       "      <td>60000.0</td>\n",
       "    </tr>\n",
       "    <tr>\n",
       "      <th>4</th>\n",
       "      <td>0.0</td>\n",
       "      <td>1.0</td>\n",
       "      <td>0.0</td>\n",
       "      <td>22.0</td>\n",
       "      <td>43000.0</td>\n",
       "    </tr>\n",
       "    <tr>\n",
       "      <th>5</th>\n",
       "      <td>0.0</td>\n",
       "      <td>0.0</td>\n",
       "      <td>1.0</td>\n",
       "      <td>36.0</td>\n",
       "      <td>52000.0</td>\n",
       "    </tr>\n",
       "  </tbody>\n",
       "</table>\n",
       "</div>"
      ],
      "text/plain": [
       "     0    1    2     3        4\n",
       "0  0.0  0.0  1.0  25.0  20000.0\n",
       "1  1.0  0.0  0.0  30.0  32000.0\n",
       "2  0.0  1.0  0.0  45.0  59000.0\n",
       "3  1.0  0.0  0.0  35.0  60000.0\n",
       "4  0.0  1.0  0.0  22.0  43000.0\n",
       "5  0.0  0.0  1.0  36.0  52000.0"
      ]
     },
     "metadata": {},
     "execution_count": 10
    }
   ],
   "metadata": {}
  },
  {
   "cell_type": "markdown",
   "source": [
    "## 練習二：Keras - label encoder + to_categorical"
   ],
   "metadata": {}
  },
  {
   "cell_type": "code",
   "execution_count": 7,
   "source": [
    "from sklearn.preprocessing import LabelEncoder\r\n",
    "from keras.utils import np_utils\r\n",
    "\r\n",
    "country=['Taiwan','Australia','Ireland','Australia','Ireland','Taiwan']\r\n",
    "age=[25,30,45,35,22,36]\r\n",
    "salary=[20000,32000,59000,60000,43000,52000]\r\n",
    "dic={'Country':country,'Age':age,'Salary':salary}\r\n",
    "data=pd.DataFrame(dic)\r\n",
    "data\r\n",
    "\r\n",
    "# label encoder \r\n",
    "encoder=LabelEncoder()\r\n",
    "encoded_a=encoder.fit_transform(data[\"Country\"])\r\n",
    "print(encoded_a)\r\n",
    "data[\"Country\"]=encoded_a\r\n",
    "data\r\n",
    "\r\n",
    "# convert integers to one hot encoding\r\n",
    "keras_onehot=np_utils.to_categorical(encoded_a)\r\n",
    "keras_onehot"
   ],
   "outputs": [
    {
     "output_type": "stream",
     "name": "stdout",
     "text": [
      "[2 0 1 0 1 2]\n"
     ]
    },
    {
     "output_type": "execute_result",
     "data": {
      "text/plain": [
       "array([[0., 0., 1.],\n",
       "       [1., 0., 0.],\n",
       "       [0., 1., 0.],\n",
       "       [1., 0., 0.],\n",
       "       [0., 1., 0.],\n",
       "       [0., 0., 1.]], dtype=float32)"
      ]
     },
     "metadata": {},
     "execution_count": 7
    }
   ],
   "metadata": {}
  },
  {
   "cell_type": "markdown",
   "source": [
    "## 練習三：Pandas.get_dummies\n",
    ">　get_dummies : 僅能將字串轉換為One hot encoding表示形式， 沒指定columns會全部轉換。"
   ],
   "metadata": {}
  },
  {
   "cell_type": "code",
   "execution_count": 8,
   "source": [
    "country=['Taiwan','Australia','Ireland','Australia','Ireland','Taiwan']\r\n",
    "age=[25,30,45,35,22,36]\r\n",
    "salary=[20000,32000,59000,60000,43000,52000]\r\n",
    "dic={'Country':country,'Age':age,'Salary':salary}\r\n",
    "data=pd.DataFrame(dic)\r\n",
    "data\r\n",
    "\r\n",
    "data1=pd.get_dummies(data)\r\n",
    "print(data1)\r\n",
    "\r\n",
    "\r\n",
    "data2=pd.get_dummies(data.Country)\r\n",
    "print(data2)\r\n",
    "\r\n"
   ],
   "outputs": [
    {
     "output_type": "stream",
     "name": "stdout",
     "text": [
      "   Age  Salary  Country_Australia  Country_Ireland  Country_Taiwan\n",
      "0   25   20000                  0                0               1\n",
      "1   30   32000                  1                0               0\n",
      "2   45   59000                  0                1               0\n",
      "3   35   60000                  1                0               0\n",
      "4   22   43000                  0                1               0\n",
      "5   36   52000                  0                0               1\n",
      "   Australia  Ireland  Taiwan\n",
      "0          0        0       1\n",
      "1          1        0       0\n",
      "2          0        1       0\n",
      "3          1        0       0\n",
      "4          0        1       0\n",
      "5          0        0       1\n"
     ]
    }
   ],
   "metadata": {}
  }
 ],
 "metadata": {
  "kernelspec": {
   "name": "python3",
   "display_name": "Python 3.8.5 64-bit ('base': conda)"
  },
  "language_info": {
   "codemirror_mode": {
    "name": "ipython",
    "version": 3
   },
   "file_extension": ".py",
   "mimetype": "text/x-python",
   "name": "python",
   "nbconvert_exporter": "python",
   "pygments_lexer": "ipython3",
   "version": "3.8.5"
  },
  "interpreter": {
   "hash": "380030d1298d5a27518acca789ff38fe82bbf2e68b73263de6a6bf23efb7704c"
  }
 },
 "nbformat": 4,
 "nbformat_minor": 4
}