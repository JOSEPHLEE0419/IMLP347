{
 "cells": [
  {
   "cell_type": "markdown",
   "source": [
    "## 基礎題 - 算出斜率w與截距b\n",
    "\n",
    "y = wx + b\n",
    "\n",
    "記得計算前X須符合資料格式\n",
    "$$[x_1, x_2, \\ldots, x_{50}]$$\n",
    "\n",
    "==> \n",
    "\n",
    "$$[[x_1], [x_2], \\ldots, [x_{50}]]$$"
   ],
   "metadata": {}
  },
  {
   "cell_type": "code",
   "execution_count": 5,
   "source": [
    "%matplotlib inline\r\n",
    "import numpy as np\r\n",
    "import matplotlib.pyplot as plt"
   ],
   "outputs": [],
   "metadata": {}
  },
  {
   "cell_type": "code",
   "execution_count": 6,
   "source": [
    "x = np.array([ 0.        ,  0.20408163,  0.40816327,  0.6122449 ,  0.81632653,\r\n",
    "        1.02040816,  1.2244898 ,  1.42857143,  1.63265306,  1.83673469,\r\n",
    "        2.04081633,  2.24489796,  2.44897959,  2.65306122,  2.85714286,\r\n",
    "        3.06122449,  3.26530612,  3.46938776,  3.67346939,  3.87755102,\r\n",
    "        4.08163265,  4.28571429,  4.48979592,  4.69387755,  4.89795918,\r\n",
    "        5.10204082,  5.30612245,  5.51020408,  5.71428571,  5.91836735,\r\n",
    "        6.12244898,  6.32653061,  6.53061224,  6.73469388,  6.93877551,\r\n",
    "        7.14285714,  7.34693878,  7.55102041,  7.75510204,  7.95918367,\r\n",
    "        8.16326531,  8.36734694,  8.57142857,  8.7755102 ,  8.97959184,\r\n",
    "        9.18367347,  9.3877551 ,  9.59183673,  9.79591837, 10.        ])\r\n",
    "y = np.array([ 0.85848224, -0.10657947,  1.42771901,  0.53554778,  1.20216826,\r\n",
    "        1.81330509,  1.88362644,  2.23557653,  2.7384889 ,  3.41174583,\r\n",
    "        4.08573636,  3.82529502,  4.39723111,  4.8852381 ,  4.70092778,\r\n",
    "        4.66993962,  6.05133235,  5.44529881,  7.22571332,  6.79423911,\r\n",
    "        7.05424438,  7.00413058,  7.98149596,  7.00044008,  7.95903855,\r\n",
    "        9.96125238,  9.06040794,  9.56018295,  9.30035956,  9.26517614,\r\n",
    "        9.56401824, 10.07659844, 11.56755942, 11.38956185, 11.83586027,\r\n",
    "       12.45642786, 11.58403954, 11.60186428, 13.88486667, 13.35550112,\r\n",
    "       13.93938726, 13.31678277, 13.69551472, 14.76548676, 14.81731598,\r\n",
    "       14.9659187 , 15.19213921, 15.28195017, 15.97997265, 16.41258817])"
   ],
   "outputs": [],
   "metadata": {}
  },
  {
   "cell_type": "code",
   "execution_count": 7,
   "source": [
    "#匯入在sklearn.linear_model套件裡面的LinearRegression模型\r\n",
    "from sklearn.linear_model import LinearRegression\r\n",
    "#將模型工具指派給一變數做使用\r\n",
    "regr = LinearRegression()\r\n",
    "#注意轉換x得格式1D->2D\r\n",
    "X = x.reshape(-1,1)\r\n",
    "#將x,y資料導入LinearRegression演算法做訓練\r\n",
    "regr.fit(X,y)\r\n",
    "Y = regr.predict(X)\r\n",
    "#列印出訓練完成之函數的斜率與截距\r\n",
    "W=regr.coef_\r\n",
    "print(\"斜率:\",W)\r\n",
    "\r\n",
    "b=regr.intercept_ \r\n",
    "print(\"截距:\",b)\r\n",
    "\r\n",
    "plt.scatter(x, y,alpha=0.8,label='Ground Truth')\r\n",
    "plt.scatter(x, Y, c='r', alpha=0.8,label='Predict')\r\n",
    "plt.legend()"
   ],
   "outputs": [
    {
     "output_type": "stream",
     "name": "stdout",
     "text": [
      "斜率: [1.61701852]\n",
      "截距: 0.27312968949421723\n"
     ]
    },
    {
     "output_type": "execute_result",
     "data": {
      "text/plain": [
       "<matplotlib.legend.Legend at 0x1f0daf1f6a0>"
      ]
     },
     "metadata": {},
     "execution_count": 7
    },
    {
     "output_type": "display_data",
     "data": {
      "image/png": "[encoded data removed]",
      "text/plain": [
       "<Figure size 432x288 with 1 Axes>"
      ]
     },
     "metadata": {
      "needs_background": "light"
     }
    }
   ],
   "metadata": {}
  },
  {
   "cell_type": "markdown",
   "source": [
    "## 進階題 - 切割資料集分別做訓練與預測(訓練資料80%、測試資料20%)\n"
   ],
   "metadata": {}
  },
  {
   "cell_type": "code",
   "execution_count": 9,
   "source": [
    "%matplotlib inline\r\n",
    "import numpy as np\r\n",
    "import matplotlib.pyplot as plt\r\n",
    "\r\n",
    "x = np.array([ 0.        ,  0.20408163,  0.40816327,  0.6122449 ,  0.81632653,\r\n",
    "        1.02040816,  1.2244898 ,  1.42857143,  1.63265306,  1.83673469,\r\n",
    "        2.04081633,  2.24489796,  2.44897959,  2.65306122,  2.85714286,\r\n",
    "        3.06122449,  3.26530612,  3.46938776,  3.67346939,  3.87755102,\r\n",
    "        4.08163265,  4.28571429,  4.48979592,  4.69387755,  4.89795918,\r\n",
    "        5.10204082,  5.30612245,  5.51020408,  5.71428571,  5.91836735,\r\n",
    "        6.12244898,  6.32653061,  6.53061224,  6.73469388,  6.93877551,\r\n",
    "        7.14285714,  7.34693878,  7.55102041,  7.75510204,  7.95918367,\r\n",
    "        8.16326531,  8.36734694,  8.57142857,  8.7755102 ,  8.97959184,\r\n",
    "        9.18367347,  9.3877551 ,  9.59183673,  9.79591837, 10.        ])\r\n",
    "y = np.array([ 0.85848224, -0.10657947,  1.42771901,  0.53554778,  1.20216826,\r\n",
    "        1.81330509,  1.88362644,  2.23557653,  2.7384889 ,  3.41174583,\r\n",
    "        4.08573636,  3.82529502,  4.39723111,  4.8852381 ,  4.70092778,\r\n",
    "        4.66993962,  6.05133235,  5.44529881,  7.22571332,  6.79423911,\r\n",
    "        7.05424438,  7.00413058,  7.98149596,  7.00044008,  7.95903855,\r\n",
    "        9.96125238,  9.06040794,  9.56018295,  9.30035956,  9.26517614,\r\n",
    "        9.56401824, 10.07659844, 11.56755942, 11.38956185, 11.83586027,\r\n",
    "       12.45642786, 11.58403954, 11.60186428, 13.88486667, 13.35550112,\r\n",
    "       13.93938726, 13.31678277, 13.69551472, 14.76548676, 14.81731598,\r\n",
    "       14.9659187 , 15.19213921, 15.28195017, 15.97997265, 16.41258817])\r\n"
   ],
   "outputs": [],
   "metadata": {}
  },
  {
   "cell_type": "code",
   "execution_count": 10,
   "source": [
    "#匯入在sklearn.linear_model套件裡面的LinearRegression模型\r\n",
    "from sklearn.linear_model import LinearRegression\r\n",
    "#匯入在sklearn.model_selection套件裡面的train_test_split模組\r\n",
    "from sklearn.model_selection import train_test_split\r\n",
    "#切割數據集(訓練資料80%、測試資料20%，設定random_state=20)\r\n",
    "x_train, x_test, y_train, y_test = train_test_split(x, y, test_size=0.2, random_state=20)\r\n",
    "#畫出訓練資料集的matplotlib圖形m\r\n",
    "plt.scatter(x_train,y_train)"
   ],
   "outputs": [
    {
     "output_type": "execute_result",
     "data": {
      "text/plain": [
       "<matplotlib.collections.PathCollection at 0x1f0dc051160>"
      ]
     },
     "metadata": {},
     "execution_count": 10
    },
    {
     "output_type": "display_data",
     "data": {
      "image/png": "[encoded data removed]",
      "text/plain": [
       "<Figure size 432x288 with 1 Axes>"
      ]
     },
     "metadata": {
      "needs_background": "light"
     }
    }
   ],
   "metadata": {}
  },
  {
   "cell_type": "markdown",
   "source": [
    "## 用訓練資料來 fit 函數\n",
    "1. 只用訓練資料集的資料進行linear regression演算法<br>\n",
    "2. 並計算出訓練階段的MSE\n",
    "3. 畫出目標點(藍色)與預測點(紅色)的對應圖\n",
    "![](images/LR_train.PNG)"
   ],
   "metadata": {}
  },
  {
   "cell_type": "code",
   "execution_count": 19,
   "source": [
    "X_train = x_train.reshape(-1,1)#要reshape變2維\r\n",
    "regr.fit(X_train,y_train)\r\n",
    "print('Coefficients: ', regr.coef_)\r\n",
    "print('interception: ', regr.intercept_)\r\n",
    "\r\n",
    "#mse\r\n",
    "Y_train = regr.predict(X_train)\r\n",
    "mse = np.sum((Y_train-y_train)**2) / len(y_train)\r\n",
    "print(\"MSE=\",mse)\r\n",
    "\r\n",
    "title=\"y=1.61*x+0.37\"+\",MSE=\"+str(round(mse,2)) \r\n",
    "plt.title(title)\r\n",
    "plt.xlabel('x')\r\n",
    "plt.ylabel('y')\r\n",
    "plt.scatter(x_train, y_train,alpha=0.8,label='Ground Truth')\r\n",
    "plt.scatter(x_train, Y_train, c='r', alpha=0.8,label='Predict')\r\n",
    "plt.legend()"
   ],
   "outputs": [
    {
     "output_type": "stream",
     "name": "stdout",
     "text": [
      "Coefficients:  [1.60659227]\n",
      "interception:  0.36802581786862376\n",
      "MSE= 0.2284495300761316\n"
     ]
    },
    {
     "output_type": "execute_result",
     "data": {
      "text/plain": [
       "<matplotlib.legend.Legend at 0x1f0dcdc7460>"
      ]
     },
     "metadata": {},
     "execution_count": 19
    },
    {
     "output_type": "display_data",
     "data": {
      "image/png": "[encoded data removed]",
      "text/plain": [
       "<Figure size 432x288 with 1 Axes>"
      ]
     },
     "metadata": {
      "needs_background": "light"
     }
    }
   ],
   "metadata": {}
  },
  {
   "cell_type": "code",
   "execution_count": null,
   "source": [],
   "outputs": [],
   "metadata": {}
  },
  {
   "cell_type": "markdown",
   "source": [
    "## 將訓練出來的函數預測測試集的X值\r\n",
    "1. 使用剛剛訓練出來的模型進行測試資料集的資料預測*注意reshape<br>\r\n",
    "使用X = 2.44897959，預測出來數值應該為 4.3025375<br>\r\n",
    "所有測試集資料\r\n",
    "$$\\widehat{y}=xw+b=w_{1}x_{1}+b$$"
   ],
   "metadata": {}
  },
  {
   "cell_type": "code",
   "execution_count": 15,
   "source": [
    "X_test = x_test.reshape(-1,1)\r\n",
    "Y_test = regr.predict(X_test)\r\n",
    "\r\n",
    "print(Y_test)"
   ],
   "outputs": [
    {
     "output_type": "stream",
     "name": "stdout",
     "text": [
      "[ 4.3025375   4.95828946  1.67952971  2.99103361 15.12244466  0.69590179\n",
      "  8.56492518  8.23704919 15.7781966   7.90917322]\n"
     ]
    }
   ],
   "metadata": {}
  },
  {
   "cell_type": "code",
   "execution_count": 13,
   "source": [
    "#Y=WX+b\r\n",
    "W=regr.coef_\r\n",
    "print(W)\r\n",
    "b=regr.intercept_\r\n",
    "print(b)\r\n",
    "W*2.44897959+b"
   ],
   "outputs": [
    {
     "output_type": "stream",
     "name": "stdout",
     "text": [
      "[1.60659227]\n",
      "0.36802581786862376\n"
     ]
    },
    {
     "output_type": "execute_result",
     "data": {
      "text/plain": [
       "array([4.3025375])"
      ]
     },
     "metadata": {},
     "execution_count": 13
    }
   ],
   "metadata": {}
  },
  {
   "cell_type": "markdown",
   "source": [
    "2. 並計算出測試階段的MSE"
   ],
   "metadata": {}
  },
  {
   "cell_type": "code",
   "execution_count": 16,
   "source": [
    "mse = np.sum((Y_test-y_test)**2) / len(y_test)\r\n",
    "print(\"MSE=\",mse) "
   ],
   "outputs": [
    {
     "output_type": "stream",
     "name": "stdout",
     "text": [
      "MSE= 0.41344072565862955\n"
     ]
    }
   ],
   "metadata": {}
  },
  {
   "cell_type": "markdown",
   "source": [
    "3. 畫出目標點(藍色)與預測點(紅色)的對應圖\n",
    "![](images/LR_test.PNG)"
   ],
   "metadata": {}
  },
  {
   "cell_type": "code",
   "execution_count": 18,
   "source": [
    "title=\"y=1.61*x+0.37\"+\",MSE=\"+str(round(mse,2)) \r\n",
    "plt.title(title)\r\n",
    "plt.xlabel('x')\r\n",
    "plt.ylabel('y')\r\n",
    "plt.scatter(x_test, y_test,alpha=0.8,label='Ground Truth')\r\n",
    "plt.scatter(x_test, Y_test, c='r', alpha=0.8,label='Predict')\r\n",
    "plt.legend()"
   ],
   "outputs": [
    {
     "output_type": "execute_result",
     "data": {
      "text/plain": [
       "<matplotlib.legend.Legend at 0x1f0dcd490a0>"
      ]
     },
     "metadata": {},
     "execution_count": 18
    },
    {
     "output_type": "display_data",
     "data": {
      "image/png": "[encoded data removed]",
      "text/plain": [
       "<Figure size 432x288 with 1 Axes>"
      ]
     },
     "metadata": {
      "needs_background": "light"
     }
    }
   ],
   "metadata": {}
  },
  {
   "cell_type": "code",
   "execution_count": null,
   "source": [],
   "outputs": [],
   "metadata": {}
  }
 ],
 "metadata": {
  "kernelspec": {
   "name": "python3",
   "display_name": "Python 3.8.5 64-bit ('base': conda)"
  },
  "language_info": {
   "codemirror_mode": {
    "name": "ipython",
    "version": 3
   },
   "file_extension": ".py",
   "mimetype": "text/x-python",
   "name": "python",
   "nbconvert_exporter": "python",
   "pygments_lexer": "ipython3",
   "version": "3.8.5"
  },
  "interpreter": {
   "hash": "380030d1298d5a27518acca789ff38fe82bbf2e68b73263de6a6bf23efb7704c"
  }
 },
 "nbformat": 4,
 "nbformat_minor": 4
}